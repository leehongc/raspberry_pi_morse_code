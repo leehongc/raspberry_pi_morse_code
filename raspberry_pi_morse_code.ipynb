{
 "cells": [
  {
   "cell_type": "code",
   "execution_count": 9,
   "metadata": {},
   "outputs": [],
   "source": [
    "# morse code referenced from https://en.wikipedia.org/wiki/File:International_Morse_Code.svg\n",
    "\n",
    "'''\n",
    "1. The length of a dot is 1 unit\n",
    "2. A dash is 3 units\n",
    "3. The space between parts of the same letter is 1 unit\n",
    "4. The space between letters is 3 units\n",
    "5. The space between words is 7 units\n",
    "'''\n",
    "morse_dict = {\n",
    "    'A':'.-',\n",
    "    'B':'-...',\n",
    "    'C':'-.-.',\n",
    "    'D':'-..',\n",
    "    'E':'.',\n",
    "    'F':'..-.',\n",
    "    'G':'--.',\n",
    "    'H':'....',\n",
    "    'I':'..',\n",
    "    'J':'.---',\n",
    "    'K':'-.-',\n",
    "    'L':'.-..',\n",
    "    'M':'--',\n",
    "    'N':'-.',\n",
    "    'O':'---',\n",
    "    'P':'.--.',\n",
    "    'Q':'--.-',\n",
    "    'R':'.-.',\n",
    "    'S':'...',\n",
    "    'T':'-',\n",
    "    'U':'..-',\n",
    "    'V':'...-',\n",
    "    'W':'.--',\n",
    "    'X':'-..-',\n",
    "    'Y':'-.--',\n",
    "    'Z':'--..',\n",
    "    '0':'-----',\n",
    "    '1':'.----',\n",
    "    '2':'..---',\n",
    "    '3':'...--',\n",
    "    '4':'....-',\n",
    "    '5':'.....',\n",
    "    '6':'-....',\n",
    "    '7':'--...',\n",
    "    '8':'---..',\n",
    "    '9':'----.'\n",
    "}"
   ]
  },
  {
   "cell_type": "code",
   "execution_count": 15,
   "metadata": {},
   "outputs": [
    {
     "name": "stdout",
     "output_type": "stream",
     "text": [
      "Enter a wordsomething\n",
      "1 unit\n",
      "1 unit\n",
      "1 unit\n",
      "space\n",
      "3 units\n",
      "3 units\n",
      "3 units\n",
      "space\n",
      "3 units\n",
      "3 units\n",
      "space\n",
      "1 unit\n",
      "space\n",
      "3 units\n",
      "space\n",
      "1 unit\n",
      "1 unit\n",
      "1 unit\n",
      "1 unit\n",
      "space\n",
      "1 unit\n",
      "1 unit\n",
      "space\n",
      "3 units\n",
      "1 unit\n",
      "space\n",
      "3 units\n",
      "3 units\n",
      "1 unit\n",
      "space\n"
     ]
    }
   ],
   "source": [
    "def word_to_morse():\n",
    "    user_input = input('Enter a word').strip().upper()\n",
    "    for letter in word:\n",
    "        morse_code = morse_dict[letter]\n",
    "        for character in morse_code:\n",
    "            if character =='.':\n",
    "                print('1 unit')\n",
    "            else:\n",
    "                print('3 units')\n",
    "        print('space')\n",
    "        \n",
    "word_to_morse()"
   ]
  },
  {
   "cell_type": "code",
   "execution_count": null,
   "metadata": {},
   "outputs": [],
   "source": []
  }
 ],
 "metadata": {
  "kernelspec": {
   "display_name": "Python 3",
   "language": "python",
   "name": "python3"
  },
  "language_info": {
   "codemirror_mode": {
    "name": "ipython",
    "version": 3
   },
   "file_extension": ".py",
   "mimetype": "text/x-python",
   "name": "python",
   "nbconvert_exporter": "python",
   "pygments_lexer": "ipython3",
   "version": "3.7.3"
  }
 },
 "nbformat": 4,
 "nbformat_minor": 2
}
