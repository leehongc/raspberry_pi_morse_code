{
 "cells": [
  {
   "cell_type": "code",
   "execution_count": null,
   "metadata": {},
   "outputs": [],
   "source": [
    "# morse code referenced from https://en.wikipedia.org/wiki/File:International_Morse_Code.svg\n",
    "\n",
    "morse_dict = {\n",
    "    'A':'.-',\n",
    "    'B':'-...',\n",
    "    'C':'-.-.',\n",
    "    'D':'-..',\n",
    "    'E':'.',\n",
    "    'F':'..-.',\n",
    "    'G':'--.',\n",
    "    'H':'....',\n",
    "    'I':'..',\n",
    "    'J':'.---',\n",
    "    'K':'-.-',\n",
    "    'L':'.-..',\n",
    "    'M':'--',\n",
    "    'N':'-.',\n",
    "    'O':'---',\n",
    "    'P':'.--.',\n",
    "    'Q':'--.-',\n",
    "    'R':'.-.',\n",
    "    'S':'...',\n",
    "    'T':'-',\n",
    "    'U':'..-',\n",
    "    'V':'...-',\n",
    "    'W':'.--',\n",
    "    'X':'-..-',\n",
    "    'Y':'-.--',\n",
    "    'Z':'--..',\n",
    "    '0':'-----',\n",
    "    '1':'.----',\n",
    "    '2':'..---',\n",
    "    '3':'...--',\n",
    "    '4':'....-',\n",
    "    '5':'.....',\n",
    "    '6':'-....',\n",
    "    '7':'--...',\n",
    "    '8':'---..',\n",
    "    '9':'----.'\n",
    "}"
   ]
  }
 ],
 "metadata": {
  "kernelspec": {
   "display_name": "Python 3",
   "language": "python",
   "name": "python3"
  },
  "language_info": {
   "codemirror_mode": {
    "name": "ipython",
    "version": 3
   },
   "file_extension": ".py",
   "mimetype": "text/x-python",
   "name": "python",
   "nbconvert_exporter": "python",
   "pygments_lexer": "ipython3",
   "version": "3.7.3"
  }
 },
 "nbformat": 4,
 "nbformat_minor": 2
}
